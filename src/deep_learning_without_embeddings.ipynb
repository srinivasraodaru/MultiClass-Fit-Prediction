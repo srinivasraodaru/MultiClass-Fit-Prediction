{
 "cells": [
  {
   "cell_type": "code",
   "execution_count": 24,
   "id": "6905bd0d",
   "metadata": {},
   "outputs": [],
   "source": [
    "import pandas as pd\n",
    "import numpy as np\n",
    "from sklearn.linear_model import LogisticRegression\n",
    "from sklearn.metrics import accuracy_score, f1_score\n",
    "from tensorflow import keras\n",
    "from keras.models import Sequential\n",
    "from keras.layers import Dense, Dropout\n",
    "from tensorflow.keras.optimizers import SGD, Adam, Adadelta, RMSprop\n",
    "from collections import defaultdict\n",
    "from sklearn.preprocessing import MinMaxScaler"
   ]
  },
  {
   "cell_type": "code",
   "execution_count": 25,
   "id": "4db5668a",
   "metadata": {},
   "outputs": [],
   "source": [
    "from numpy import mean\n",
    "from numpy import std\n",
    "from sklearn.datasets import make_multilabel_classification\n",
    "from sklearn.model_selection import RepeatedKFold\n",
    "from keras.models import Sequential\n",
    "from keras.layers import Dense\n",
    "from sklearn.metrics import accuracy_score\n",
    "# Data visualization\n",
    "import matplotlib.pyplot as plt\n",
    "import numpy as np\n",
    "import pandas as pd \n",
    "# Keras\n",
    "from keras.models import Sequential\n",
    "from keras.layers import Dense\n",
    "import keras.backend as K\n",
    "# Train-Test\n",
    "from sklearn.model_selection import train_test_split\n",
    "# Scaling data\n",
    "from sklearn.preprocessing import StandardScaler\n",
    "# Classification Report\n",
    "from sklearn.metrics import classification_report"
   ]
  },
  {
   "cell_type": "code",
   "execution_count": 26,
   "id": "562d0d56",
   "metadata": {},
   "outputs": [],
   "source": [
    "# Reading the data\n",
    "dataset = pd.read_json('../data/renttherunway_final_data.json.gz', lines=True)\n",
    "dataset = dataset.dropna()\n",
    "dataset = dataset.drop(dataset[dataset['rented for']== \"party: cocktail\"].index)\n",
    "\n",
    "# 0 = Small, 1 = Fit, 2 = Large\n",
    "dataset.loc[dataset[\"fit\"] == \"small\", \"fit\"] = 0\n",
    "\n",
    "dataset.loc[dataset[\"fit\"] == \"fit\", \"fit\"] = 1\n",
    "\n",
    "dataset.loc[dataset[\"fit\"] == \"large\", \"fit\"] = 2"
   ]
  },
  {
   "cell_type": "code",
   "execution_count": 27,
   "id": "87f3ef4f",
   "metadata": {},
   "outputs": [
    {
     "name": "stderr",
     "output_type": "stream",
     "text": [
      "/home/nidhi/Documents/fall2021/cse258/myvirtualenv/my_project_env/lib/python3.7/site-packages/ipykernel_launcher.py:2: FutureWarning: Using short name for 'orient' is deprecated. Only the options: ('dict', list, 'series', 'split', 'records', 'index') will be used in a future version. Use one of the above to silence this warning.\n",
      "  \n"
     ]
    }
   ],
   "source": [
    "# Converting the data into list of dictionaries\n",
    "data = pd.DataFrame(dataset).to_dict('record')\n",
    "\n",
    "for d in data:\n",
    "    d['weight'] = int(d['weight'].split('lbs')[0])\n",
    "    if(int(d['height'].split(' ')[1].split('\"')[0])<10):\n",
    "        height2 = int(d['height'].split(' ')[1].split('\"')[0])*10\n",
    "    else:\n",
    "        height2 = int(d['height'].split(' ')[1].split('\"')[0])\n",
    "    d['height'] = int(d['height'][0][0])*100+height2\n",
    "    \n",
    "####converting categroies type to one hot\n",
    "catogeries = ['rented for','body type']\n",
    "for cat in catogeries:\n",
    "    categories_list = defaultdict(int)\n",
    "    for d in data:\n",
    "        categories_list[d[cat]] += 1\n",
    "        \n",
    "    categories_id = defaultdict(int)\n",
    "\n",
    "    i = 0\n",
    "    for cID in  categories_list:\n",
    "        categories_id[cID] = i\n",
    "        i+=1\n",
    "    for d in data:\n",
    "        f = [0]*len(categories_list)\n",
    "        f[categories_id[d[cat]]] = 1\n",
    "        d[cat] = f[:len(categories_list)-1]"
   ]
  },
  {
   "cell_type": "code",
   "execution_count": null,
   "id": "825435a5",
   "metadata": {},
   "outputs": [],
   "source": []
  },
  {
   "cell_type": "code",
   "execution_count": 28,
   "id": "b76727f5",
   "metadata": {},
   "outputs": [],
   "source": [
    "# Extracting features from the data\n",
    "def feature(d):\n",
    "    f = [1, d['rating'], len(d['review_text']), len(d['review_summary'])]\n",
    "    return np.array(f)"
   ]
  },
  {
   "cell_type": "code",
   "execution_count": 29,
   "id": "8c850956",
   "metadata": {},
   "outputs": [],
   "source": [
    "# Add features\n",
    "df = []\n",
    "for d in data:\n",
    "    arr = []\n",
    "#     arr.append(d['weight'])\n",
    "    arr.append(d['rating'])\n",
    "    arr += d['rented for']\n",
    "    arr.append(len(d['review_text']))\n",
    "    arr += d['body type']\n",
    "#     arr.append(d['height'])\n",
    "    arr.append(d['size'])\n",
    "#     arr.append(d['age'])\n",
    "    df.append(arr)"
   ]
  },
  {
   "cell_type": "code",
   "execution_count": 30,
   "id": "da4dacce",
   "metadata": {},
   "outputs": [],
   "source": [
    "scaler = MinMaxScaler()\n",
    "scaler.fit(df)\n",
    "df = scaler.transform(df)"
   ]
  },
  {
   "cell_type": "code",
   "execution_count": 31,
   "id": "fc7e33f7",
   "metadata": {},
   "outputs": [],
   "source": [
    "y = dataset[\"fit\"]\n",
    "\n",
    "from keras.utils.np_utils import to_categorical\n",
    "y_cat = to_categorical(y)\n",
    "\n",
    "# Split data\n",
    "test_y = y_cat[int(len(y_cat) * .8):]\n",
    "train_y = y_cat[:int(len(y_cat) * .8)]\n",
    "test_f = df[int(len(y_cat) * .8):]\n",
    "train_f = df[:int(len(y_cat) * .8)]\n",
    "\n",
    "# Convert to numpy array.\n",
    "test_f = np.array(test_f)\n",
    "train_f = np.array(train_f)"
   ]
  },
  {
   "cell_type": "code",
   "execution_count": 32,
   "id": "f2e61e98",
   "metadata": {},
   "outputs": [
    {
     "name": "stdout",
     "output_type": "stream",
     "text": [
      "Model: \"sequential_2\"\n",
      "_________________________________________________________________\n",
      " Layer (type)                Output Shape              Param #   \n",
      "=================================================================\n",
      " dense_6 (Dense)             (None, 60)                1020      \n",
      "                                                                 \n",
      " dense_7 (Dense)             (None, 40)                2440      \n",
      "                                                                 \n",
      " dropout_2 (Dropout)         (None, 40)                0         \n",
      "                                                                 \n",
      " dense_8 (Dense)             (None, 3)                 123       \n",
      "                                                                 \n",
      "=================================================================\n",
      "Total params: 3,583\n",
      "Trainable params: 3,583\n",
      "Non-trainable params: 0\n",
      "_________________________________________________________________\n"
     ]
    },
    {
     "name": "stderr",
     "output_type": "stream",
     "text": [
      "/home/nidhi/Documents/fall2021/cse258/myvirtualenv/my_project_env/lib/python3.7/site-packages/keras/optimizer_v2/adam.py:105: UserWarning: The `lr` argument is deprecated, use `learning_rate` instead.\n",
      "  super(Adam, self).__init__(name, **kwargs)\n"
     ]
    }
   ],
   "source": [
    "model = Sequential()\n",
    "model.add(Dense(60, input_shape = (len(train_f[0]), ), activation = \"relu\"))\n",
    "model.add(Dense(40, activation = \"relu\"))\n",
    "model.add(Dropout(0.1))\n",
    "model.add(Dense(3, activation = \"softmax\"))\n",
    "model.compile(Adam(lr = 0.001), \"categorical_crossentropy\", metrics = [\"accuracy\"])\n",
    "model.summary()"
   ]
  },
  {
   "cell_type": "code",
   "execution_count": 33,
   "id": "0a3a76bb",
   "metadata": {},
   "outputs": [
    {
     "name": "stdout",
     "output_type": "stream",
     "text": [
      "Epoch 1/10\n",
      "3660/3660 [==============================] - 4s 1ms/step - loss: 0.7261 - accuracy: 0.7366\n",
      "Epoch 2/10\n",
      "3660/3660 [==============================] - 3s 929us/step - loss: 0.7147 - accuracy: 0.7375\n",
      "Epoch 3/10\n",
      "3660/3660 [==============================] - 3s 948us/step - loss: 0.7119 - accuracy: 0.7381\n",
      "Epoch 4/10\n",
      "3660/3660 [==============================] - 3s 952us/step - loss: 0.7106 - accuracy: 0.7381\n",
      "Epoch 5/10\n",
      "3660/3660 [==============================] - 3s 942us/step - loss: 0.7091 - accuracy: 0.7384\n",
      "Epoch 6/10\n",
      "3660/3660 [==============================] - 3s 933us/step - loss: 0.7089 - accuracy: 0.7380\n",
      "Epoch 7/10\n",
      "3660/3660 [==============================] - 3s 954us/step - loss: 0.7080 - accuracy: 0.7384\n",
      "Epoch 8/10\n",
      "3660/3660 [==============================] - 3s 917us/step - loss: 0.7077 - accuracy: 0.7390\n",
      "Epoch 9/10\n",
      "3660/3660 [==============================] - 3s 929us/step - loss: 0.7072 - accuracy: 0.7386\n",
      "Epoch 10/10\n",
      "3660/3660 [==============================] - 3s 926us/step - loss: 0.7070 - accuracy: 0.7387\n"
     ]
    },
    {
     "data": {
      "text/plain": [
       "<keras.callbacks.History at 0x7fddbeaeb510>"
      ]
     },
     "execution_count": 33,
     "metadata": {},
     "output_type": "execute_result"
    }
   ],
   "source": [
    "model.fit(train_f, train_y, verbose=1, epochs=10)"
   ]
  },
  {
   "cell_type": "code",
   "execution_count": 36,
   "id": "c3f4b89c",
   "metadata": {},
   "outputs": [
    {
     "data": {
      "text/plain": [
       "array([[  176,  3672,    94],\n",
       "       [  159, 21218,   202],\n",
       "       [   72,  3453,   230]])"
      ]
     },
     "execution_count": 36,
     "metadata": {},
     "output_type": "execute_result"
    }
   ],
   "source": [
    "# Confusion matrix\n",
    "# y_pred_class = model.predict_classes(test_f)\n",
    "predict_x=model.predict(test_f) \n",
    "y_pred_class=np.argmax(predict_x,axis=1)\n",
    "\n",
    "from sklearn.metrics import confusion_matrix\n",
    "y_pred = model.predict(test_f)\n",
    "y_test_class = np.argmax(test_y, axis=1)\n",
    "confusion_matrix(y_test_class, y_pred_class)"
   ]
  },
  {
   "cell_type": "code",
   "execution_count": 37,
   "id": "957d88b9",
   "metadata": {},
   "outputs": [
    {
     "name": "stdout",
     "output_type": "stream",
     "text": [
      "              precision    recall  f1-score   support\n",
      "\n",
      "           0       0.43      0.04      0.08      3942\n",
      "           1       0.75      0.98      0.85     21579\n",
      "           2       0.44      0.06      0.11      3755\n",
      "\n",
      "    accuracy                           0.74     29276\n",
      "   macro avg       0.54      0.36      0.35     29276\n",
      "weighted avg       0.67      0.74      0.65     29276\n",
      "\n"
     ]
    }
   ],
   "source": [
    "# Classification report.\n",
    "from sklearn.metrics import classification_report\n",
    "print(classification_report(y_test_class, y_pred_class))"
   ]
  },
  {
   "cell_type": "code",
   "execution_count": null,
   "id": "e32f6f6a",
   "metadata": {},
   "outputs": [],
   "source": []
  }
 ],
 "metadata": {
  "kernelspec": {
   "display_name": "Python 3 (ipykernel)",
   "language": "python",
   "name": "python3"
  },
  "language_info": {
   "codemirror_mode": {
    "name": "ipython",
    "version": 3
   },
   "file_extension": ".py",
   "mimetype": "text/x-python",
   "name": "python",
   "nbconvert_exporter": "python",
   "pygments_lexer": "ipython3",
   "version": "3.7.10"
  }
 },
 "nbformat": 4,
 "nbformat_minor": 5
}
