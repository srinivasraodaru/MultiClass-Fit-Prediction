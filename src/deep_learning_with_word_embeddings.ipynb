{
 "cells": [
  {
   "cell_type": "code",
   "execution_count": 1,
   "id": "6905bd0d",
   "metadata": {},
   "outputs": [],
   "source": [
    "import pandas as pd\n",
    "import numpy as np\n",
    "from tensorflow import keras\n",
    "from collections import defaultdict\n",
    "from keras.utils.np_utils import to_categorical\n",
    "from keras.models import Sequential\n",
    "from keras.layers import Dropout, Dense\n",
    "from tensorflow.keras.optimizers import Adam\n",
    "import keras.backend as K\n",
    "import string"
   ]
  },
  {
   "cell_type": "code",
   "execution_count": null,
   "id": "4db5668a",
   "metadata": {},
   "outputs": [],
   "source": []
  },
  {
   "cell_type": "code",
   "execution_count": 2,
   "id": "562d0d56",
   "metadata": {},
   "outputs": [],
   "source": [
    "# Reading the data\n",
    "dataset = pd.read_json('../data/renttherunway_final_data.json.gz', lines=True)\n",
    "dataset = dataset.dropna()\n",
    "dataset = dataset.drop(dataset[dataset['rented for']== \"party: cocktail\"].index)\n",
    "\n",
    "# 0 = Small, 1 = Fit, 2 = Large\n",
    "dataset.loc[dataset[\"fit\"] == \"small\", \"fit\"] = 0\n",
    "\n",
    "dataset.loc[dataset[\"fit\"] == \"fit\", \"fit\"] = 1\n",
    "\n",
    "dataset.loc[dataset[\"fit\"] == \"large\", \"fit\"] = 2"
   ]
  },
  {
   "cell_type": "code",
   "execution_count": 3,
   "id": "87f3ef4f",
   "metadata": {},
   "outputs": [
    {
     "name": "stderr",
     "output_type": "stream",
     "text": [
      "/var/folders/bl/rv0p_vz52hzcccft68rtk3840000gn/T/ipykernel_16813/1164200574.py:2: FutureWarning: Using short name for 'orient' is deprecated. Only the options: ('dict', list, 'series', 'split', 'records', 'index') will be used in a future version. Use one of the above to silence this warning.\n",
      "  data = pd.DataFrame(dataset).to_dict('record')\n"
     ]
    }
   ],
   "source": [
    "# Converting the data into list of dictionaries\n",
    "data = pd.DataFrame(dataset).to_dict('record')\n",
    "\n",
    "for d in data:\n",
    "    d['weight'] = int(d['weight'].split('lbs')[0])\n",
    "    d['height'] = int(d['height'].split(' ')[0][:-1])*12 + int(d['height'].split(' ')[1][:-1])\n",
    "\n",
    "catogeries = ['rented for','body type']\n",
    "for cat in catogeries:\n",
    "    categories_list = defaultdict(int)\n",
    "    for d in data:\n",
    "        categories_list[d[cat]] += 1\n",
    "        \n",
    "    categories_id = defaultdict(int)\n",
    "\n",
    "    i = 0\n",
    "    for cID in  categories_list:\n",
    "        categories_id[cID] = i\n",
    "        i+=1\n",
    "    for d in data:\n",
    "        f = [0]*len(categories_list)\n",
    "        f[categories_id[d[cat]]] = 1\n",
    "        d[cat] = f[:len(categories_list)-1]"
   ]
  },
  {
   "cell_type": "code",
   "execution_count": null,
   "id": "825435a5",
   "metadata": {},
   "outputs": [],
   "source": []
  },
  {
   "cell_type": "code",
   "execution_count": null,
   "id": "b76727f5",
   "metadata": {},
   "outputs": [],
   "source": []
  },
  {
   "cell_type": "code",
   "execution_count": null,
   "id": "bb933aab",
   "metadata": {},
   "outputs": [],
   "source": []
  },
  {
   "cell_type": "code",
   "execution_count": 4,
   "id": "5e3b151e",
   "metadata": {},
   "outputs": [],
   "source": [
    "embeddings_dict = {}\n",
    "with open(\"glove.6B.50d.txt\", 'r') as f:\n",
    "    for line in f:\n",
    "        values = line.split()\n",
    "        word = values[0]\n",
    "        vector = np.asarray(values[1:], \"float32\")\n",
    "        embeddings_dict[word] = vector"
   ]
  },
  {
   "cell_type": "code",
   "execution_count": 5,
   "id": "43357fbb",
   "metadata": {},
   "outputs": [],
   "source": [
    "# import io\n",
    "\n",
    "# def load_vectors(fname):\n",
    "#     fin = io.open(fname, 'r', encoding='utf-8', newline='\\n', errors='ignore')\n",
    "#     n, d = map(int, fin.readline().split())\n",
    "#     data = {}\n",
    "#     for line in fin:\n",
    "#         tokens = line.rstrip().split(' ')\n",
    "#         data[tokens[0]] = map(float, tokens[1:])\n",
    "#     return data\n",
    "\n",
    "# embeddings_dict = load_vectors(\"wiki-news-300d-1M.vec\")"
   ]
  },
  {
   "cell_type": "code",
   "execution_count": 6,
   "id": "604a951c",
   "metadata": {},
   "outputs": [],
   "source": [
    "def get_word_embeddings(word):\n",
    "    try:\n",
    "        return embeddings_dict[word]\n",
    "    except KeyError:\n",
    "        return np.zeros(50)"
   ]
  },
  {
   "cell_type": "code",
   "execution_count": 7,
   "id": "0ca295e0",
   "metadata": {},
   "outputs": [
    {
     "data": {
      "text/plain": [
       "numpy.ndarray"
      ]
     },
     "execution_count": 7,
     "metadata": {},
     "output_type": "execute_result"
    }
   ],
   "source": [
    "punctuation = set(string.punctuation)\n",
    "type(embeddings_dict['the'])"
   ]
  },
  {
   "cell_type": "code",
   "execution_count": 8,
   "id": "8c850956",
   "metadata": {},
   "outputs": [],
   "source": [
    "# Add features\n",
    "df = []\n",
    "for d in data:\n",
    "    arr = []\n",
    "#     arr.append(d['weight'])\n",
    "    arr.append(d['rating'])\n",
    "    arr += d['rented for']\n",
    "    arr += list(sum([get_word_embeddings(word) for word in d['review_text'].split()])/len([get_word_embeddings(word) for word in d['review_text'].split()]))\n",
    "    try:\n",
    "        arr += list(sum([get_word_embeddings(word) for word in d['review_summary'].split()])/(len([get_word_embeddings(word) for word in d['review_summary'].split()])+1))\n",
    "    except:\n",
    "        arr += [0]*50\n",
    "    \n",
    "#     arr.append(len(d['review_text']))\n",
    "    arr += d['body type']\n",
    "#     arr.append(d['height'])\n",
    "    arr.append(d['size'])\n",
    "#     arr.append(d['age'])\n",
    "    df.append(arr)"
   ]
  },
  {
   "cell_type": "code",
   "execution_count": 9,
   "id": "fc7e33f7",
   "metadata": {},
   "outputs": [],
   "source": [
    "y = dataset[\"fit\"]\n",
    "y_cat = to_categorical(y)\n",
    "split_ratio = .85\n",
    "# Split data\n",
    "test_y = y_cat[int(len(y_cat) * split_ratio):]\n",
    "train_y = y_cat[:int(len(y_cat) * split_ratio)]\n",
    "test_f = df[int(len(y_cat) * split_ratio):]\n",
    "train_f = df[:int(len(y_cat) * split_ratio)]\n",
    "\n",
    "# Convert to numpy array.\n",
    "test_f = np.array(test_f)\n",
    "train_f = np.array(train_f)"
   ]
  },
  {
   "cell_type": "code",
   "execution_count": 10,
   "id": "160c8e61",
   "metadata": {},
   "outputs": [],
   "source": [
    "def recall_m(y_true, y_pred):\n",
    "    true_positives = K.sum(K.round(K.clip(y_true * y_pred, 0, 1)))\n",
    "    possible_positives = K.sum(K.round(K.clip(y_true, 0, 1)))\n",
    "    recall = true_positives / (possible_positives + K.epsilon())\n",
    "    return recall\n",
    "\n",
    "def precision_m(y_true, y_pred):\n",
    "    true_positives = K.sum(K.round(K.clip(y_true * y_pred, 0, 1)))\n",
    "    predicted_positives = K.sum(K.round(K.clip(y_pred, 0, 1)))\n",
    "    precision = true_positives / (predicted_positives + K.epsilon())\n",
    "    return precision\n",
    "\n",
    "def f1_m(y_true, y_pred):\n",
    "    precision = precision_m(y_true, y_pred)\n",
    "    recall = recall_m(y_true, y_pred)\n",
    "    return 2*((precision*recall)/(precision+recall+K.epsilon()))"
   ]
  },
  {
   "cell_type": "code",
   "execution_count": 11,
   "id": "f2e61e98",
   "metadata": {},
   "outputs": [
    {
     "name": "stdout",
     "output_type": "stream",
     "text": [
      "Model: \"sequential\"\n",
      "_________________________________________________________________\n",
      "Layer (type)                 Output Shape              Param #   \n",
      "=================================================================\n",
      "dense (Dense)                (None, 60)                6960      \n",
      "_________________________________________________________________\n",
      "dense_1 (Dense)              (None, 40)                2440      \n",
      "_________________________________________________________________\n",
      "dropout (Dropout)            (None, 40)                0         \n",
      "_________________________________________________________________\n",
      "dense_2 (Dense)              (None, 3)                 123       \n",
      "=================================================================\n",
      "Total params: 9,523\n",
      "Trainable params: 9,523\n",
      "Non-trainable params: 0\n",
      "_________________________________________________________________\n"
     ]
    },
    {
     "name": "stderr",
     "output_type": "stream",
     "text": [
      "2021-11-30 16:11:59.029247: I tensorflow/core/platform/cpu_feature_guard.cc:142] This TensorFlow binary is optimized with oneAPI Deep Neural Network Library (oneDNN) to use the following CPU instructions in performance-critical operations:  AVX2 FMA\n",
      "To enable them in other operations, rebuild TensorFlow with the appropriate compiler flags.\n",
      "/usr/local/lib/python3.9/site-packages/keras/optimizer_v2/optimizer_v2.py:355: UserWarning: The `lr` argument is deprecated, use `learning_rate` instead.\n",
      "  warnings.warn(\n"
     ]
    }
   ],
   "source": [
    "model = Sequential()\n",
    "model.add(Dense(60, input_shape = (len(train_f[0]), ), activation = \"relu\"))\n",
    "model.add(Dense(40, activation = \"relu\"))\n",
    "model.add(Dropout(0.1))\n",
    "model.add(Dense(3, activation = \"softmax\"))\n",
    "model.compile(Adam(lr = 0.001), \"categorical_crossentropy\", metrics = ['acc',f1_m,precision_m, recall_m])\n",
    "model.summary()"
   ]
  },
  {
   "cell_type": "code",
   "execution_count": 12,
   "id": "0a3a76bb",
   "metadata": {},
   "outputs": [
    {
     "name": "stderr",
     "output_type": "stream",
     "text": [
      "2021-11-30 16:11:59.333041: I tensorflow/compiler/mlir/mlir_graph_optimization_pass.cc:185] None of the MLIR Optimization Passes are enabled (registered 2)\n"
     ]
    },
    {
     "name": "stdout",
     "output_type": "stream",
     "text": [
      "Epoch 1/20\n",
      "3889/3889 [==============================] - 4s 814us/step - loss: 0.7034 - acc: 0.7380 - f1_m: 0.7326 - precision_m: 0.7614 - recall_m: 0.7072\n",
      "Epoch 2/20\n",
      "3889/3889 [==============================] - 3s 839us/step - loss: 0.6841 - acc: 0.7430 - f1_m: 0.7358 - precision_m: 0.7676 - recall_m: 0.7077\n",
      "Epoch 3/20\n",
      "3889/3889 [==============================] - 4s 975us/step - loss: 0.6782 - acc: 0.7447 - f1_m: 0.7386 - precision_m: 0.7680 - recall_m: 0.7124\n",
      "Epoch 4/20\n",
      "3889/3889 [==============================] - 4s 1ms/step - loss: 0.6744 - acc: 0.7457 - f1_m: 0.7398 - precision_m: 0.7681 - recall_m: 0.7147\n",
      "Epoch 5/20\n",
      "3889/3889 [==============================] - 4s 1ms/step - loss: 0.6712 - acc: 0.7468 - f1_m: 0.7415 - precision_m: 0.7685 - recall_m: 0.7173\n",
      "Epoch 6/20\n",
      "3889/3889 [==============================] - 4s 971us/step - loss: 0.6678 - acc: 0.7484 - f1_m: 0.7426 - precision_m: 0.7698 - recall_m: 0.7181\n",
      "Epoch 7/20\n",
      "3889/3889 [==============================] - 4s 1ms/step - loss: 0.6652 - acc: 0.7485 - f1_m: 0.7434 - precision_m: 0.7712 - recall_m: 0.7185\n",
      "Epoch 8/20\n",
      "3889/3889 [==============================] - 3s 789us/step - loss: 0.6630 - acc: 0.7499 - f1_m: 0.7443 - precision_m: 0.7722 - recall_m: 0.7192\n",
      "Epoch 9/20\n",
      "3889/3889 [==============================] - 3s 888us/step - loss: 0.6608 - acc: 0.7504 - f1_m: 0.7447 - precision_m: 0.7727 - recall_m: 0.7196\n",
      "Epoch 10/20\n",
      "3889/3889 [==============================] - 3s 707us/step - loss: 0.6575 - acc: 0.7514 - f1_m: 0.7459 - precision_m: 0.7731 - recall_m: 0.7214\n",
      "Epoch 11/20\n",
      "3889/3889 [==============================] - 3s 692us/step - loss: 0.6567 - acc: 0.7512 - f1_m: 0.7458 - precision_m: 0.7730 - recall_m: 0.7214\n",
      "Epoch 12/20\n",
      "3889/3889 [==============================] - 3s 752us/step - loss: 0.6551 - acc: 0.7524 - f1_m: 0.7465 - precision_m: 0.7745 - recall_m: 0.7214\n",
      "Epoch 13/20\n",
      "3889/3889 [==============================] - 3s 868us/step - loss: 0.6528 - acc: 0.7526 - f1_m: 0.7473 - precision_m: 0.7752 - recall_m: 0.7223\n",
      "Epoch 14/20\n",
      "3889/3889 [==============================] - 3s 833us/step - loss: 0.6526 - acc: 0.7530 - f1_m: 0.7484 - precision_m: 0.7752 - recall_m: 0.7242\n",
      "Epoch 15/20\n",
      "3889/3889 [==============================] - 3s 736us/step - loss: 0.6503 - acc: 0.7537 - f1_m: 0.7490 - precision_m: 0.7756 - recall_m: 0.7250\n",
      "Epoch 16/20\n",
      "3889/3889 [==============================] - 3s 708us/step - loss: 0.6495 - acc: 0.7542 - f1_m: 0.7496 - precision_m: 0.7762 - recall_m: 0.7256\n",
      "Epoch 17/20\n",
      "3889/3889 [==============================] - 3s 680us/step - loss: 0.6476 - acc: 0.7554 - f1_m: 0.7499 - precision_m: 0.7766 - recall_m: 0.7258\n",
      "Epoch 18/20\n",
      "3889/3889 [==============================] - 3s 751us/step - loss: 0.6469 - acc: 0.7555 - f1_m: 0.7508 - precision_m: 0.7778 - recall_m: 0.7266\n",
      "Epoch 19/20\n",
      "3889/3889 [==============================] - 3s 823us/step - loss: 0.6462 - acc: 0.7560 - f1_m: 0.7509 - precision_m: 0.7780 - recall_m: 0.7264\n",
      "Epoch 20/20\n",
      "3889/3889 [==============================] - 3s 782us/step - loss: 0.6451 - acc: 0.7558 - f1_m: 0.7510 - precision_m: 0.7780 - recall_m: 0.7267\n"
     ]
    },
    {
     "data": {
      "text/plain": [
       "<keras.callbacks.History at 0x1a2c531c0>"
      ]
     },
     "execution_count": 12,
     "metadata": {},
     "output_type": "execute_result"
    }
   ],
   "source": [
    "model.fit(train_f, train_y, verbose=1, epochs=20)"
   ]
  },
  {
   "cell_type": "code",
   "execution_count": 13,
   "id": "7c768f00",
   "metadata": {},
   "outputs": [],
   "source": [
    "# Confusion matrix\n",
    "# y_pred_class = model.predict_classes(test_f)\n",
    "predict_x=model.predict(test_f) \n",
    "y_pred_class=np.argmax(predict_x,axis=1)"
   ]
  },
  {
   "cell_type": "code",
   "execution_count": 14,
   "id": "c3f4b89c",
   "metadata": {},
   "outputs": [
    {
     "data": {
      "text/plain": [
       "array([[  353,  2543,    78],\n",
       "       [  184, 15874,   103],\n",
       "       [  114,  2441,   267]])"
      ]
     },
     "execution_count": 14,
     "metadata": {},
     "output_type": "execute_result"
    }
   ],
   "source": [
    "from sklearn.metrics import confusion_matrix\n",
    "y_pred = model.predict(test_f)\n",
    "y_test_class = np.argmax(test_y, axis=1)\n",
    "confusion_matrix(y_test_class, y_pred_class)"
   ]
  },
  {
   "cell_type": "code",
   "execution_count": 15,
   "id": "bdd9bd1f",
   "metadata": {},
   "outputs": [
    {
     "data": {
      "text/plain": [
       "array([[0.07941305, 0.8659572 , 0.05462974],\n",
       "       [0.22949485, 0.6122828 , 0.15822235],\n",
       "       [0.03201224, 0.8580395 , 0.10994828],\n",
       "       ...,\n",
       "       [0.257764  , 0.51414365, 0.22809228],\n",
       "       [0.08388903, 0.87520146, 0.04090962],\n",
       "       [0.19315907, 0.77320945, 0.03363152]], dtype=float32)"
      ]
     },
     "execution_count": 15,
     "metadata": {},
     "output_type": "execute_result"
    }
   ],
   "source": [
    "y_pred"
   ]
  },
  {
   "cell_type": "code",
   "execution_count": 16,
   "id": "208cc1a7",
   "metadata": {},
   "outputs": [
    {
     "data": {
      "text/plain": [
       "array([1, 1, 1, ..., 1, 1, 1])"
      ]
     },
     "execution_count": 16,
     "metadata": {},
     "output_type": "execute_result"
    }
   ],
   "source": [
    "y_pred_class"
   ]
  },
  {
   "cell_type": "code",
   "execution_count": 17,
   "id": "24d97ad3",
   "metadata": {},
   "outputs": [
    {
     "data": {
      "text/plain": [
       "0.7512"
      ]
     },
     "execution_count": 17,
     "metadata": {},
     "output_type": "execute_result"
    }
   ],
   "source": [
    "from sklearn.metrics import accuracy_score\n",
    "accuracy_score(y_test_class, y_pred_class).round(4)"
   ]
  },
  {
   "cell_type": "code",
   "execution_count": 18,
   "id": "00f470fe",
   "metadata": {},
   "outputs": [
    {
     "data": {
      "text/plain": [
       "0.6786"
      ]
     },
     "execution_count": 18,
     "metadata": {},
     "output_type": "execute_result"
    }
   ],
   "source": [
    "from sklearn.metrics import f1_score\n",
    "f1_score(y_test_class, y_pred_class, average='weighted').round(4)"
   ]
  },
  {
   "cell_type": "code",
   "execution_count": 19,
   "id": "b8cf161f",
   "metadata": {},
   "outputs": [
    {
     "data": {
      "text/plain": [
       "0.7512"
      ]
     },
     "execution_count": 19,
     "metadata": {},
     "output_type": "execute_result"
    }
   ],
   "source": [
    "from sklearn.metrics import recall_score\n",
    "recall_score(y_test_class, y_pred_class, average='weighted').round(4)"
   ]
  },
  {
   "cell_type": "code",
   "execution_count": 20,
   "id": "bfc80881",
   "metadata": {},
   "outputs": [
    {
     "data": {
      "text/plain": [
       "0.7102"
      ]
     },
     "execution_count": 20,
     "metadata": {},
     "output_type": "execute_result"
    }
   ],
   "source": [
    "from sklearn.metrics import precision_score\n",
    "precision_score(y_test_class, y_pred_class, average='weighted').round(4)"
   ]
  },
  {
   "cell_type": "code",
   "execution_count": null,
   "id": "e32f6f6a",
   "metadata": {},
   "outputs": [],
   "source": []
  },
  {
   "cell_type": "code",
   "execution_count": 21,
   "id": "5e35a573",
   "metadata": {},
   "outputs": [
    {
     "name": "stdout",
     "output_type": "stream",
     "text": [
      "baseline: ROC AUC=0.500\n",
      "deep learning: ROC AUC=0.733\n"
     ]
    },
    {
     "data": {
      "image/png": "[encoded data removed]",
      "text/plain": [
       "<Figure size 432x288 with 1 Axes>"
      ]
     },
     "metadata": {
      "needs_background": "light"
     },
     "output_type": "display_data"
    }
   ],
   "source": [
    "# roc curve and auc\n",
    "from sklearn.metrics import roc_curve\n",
    "from sklearn.metrics import roc_auc_score\n",
    "from matplotlib import pyplot\n",
    "\n",
    "ns_probs = np.array([[0,1,0] for _ in range(len(test_y))])\n",
    "\n",
    "lr_probs = y_pred\n",
    "# keep probabilities for the positive outcome only\n",
    "\n",
    "# calculate scores\n",
    "\n",
    "lr_auc = roc_auc_score(y_test_class, lr_probs, multi_class='ovr')\n",
    "ns_auc = roc_auc_score(y_test_class, ns_probs, multi_class='ovr')\n",
    "\n",
    "ns_probs = ns_probs[:, 1]\n",
    "lr_probs = lr_probs[:, 1]\n",
    "\n",
    "for y in range(len(y_test_class)):\n",
    "    if y_test_class[y] == 2:\n",
    "        y_test_class[y] = 0\n",
    "        \n",
    "print('baseline: ROC AUC=%.3f' % (ns_auc))\n",
    "print('deep learning: ROC AUC=%.3f' % (lr_auc))\n",
    "        \n",
    "# calculate roc curves\n",
    "ns_fpr, ns_tpr, _ = roc_curve(y_test_class, ns_probs)\n",
    "lr_fpr, lr_tpr, _ = roc_curve(y_test_class, lr_probs)\n",
    "\n",
    "# plot the roc curve for the model\n",
    "pyplot.plot(ns_fpr, ns_tpr, linestyle='--', label='baseline')\n",
    "pyplot.plot(lr_fpr, lr_tpr, marker='.', label='deep learning')\n",
    "\n",
    "# axis labels\n",
    "pyplot.xlabel('False Positive Rate')\n",
    "pyplot.ylabel('True Positive Rate')\n",
    "pyplot.title(\"AUC - ROC Curve\")\n",
    "\n",
    "# show the legend\n",
    "pyplot.legend()\n",
    "pyplot.savefig(\"./roc curve and auc.png\")\n",
    "\n",
    "# show the plot\n",
    "pyplot.show()"
   ]
  },
  {
   "cell_type": "code",
   "execution_count": null,
   "id": "e10fa81a",
   "metadata": {},
   "outputs": [],
   "source": []
  },
  {
   "cell_type": "code",
   "execution_count": 25,
   "id": "9cf3c8ce",
   "metadata": {},
   "outputs": [
    {
     "name": "stdout",
     "output_type": "stream",
     "text": [
      "Deep Learning: f1=0.669 auc=0.868\n"
     ]
    },
    {
     "data": {
      "image/png": "[encoded data removed]",
      "text/plain": [
       "<Figure size 432x288 with 1 Axes>"
      ]
     },
     "metadata": {
      "needs_background": "light"
     },
     "output_type": "display_data"
    }
   ],
   "source": [
    "# precision-recall curve and f1\n",
    "from sklearn.metrics import precision_recall_curve\n",
    "from sklearn.metrics import f1_score\n",
    "from sklearn.metrics import auc\n",
    "from matplotlib import pyplot\n",
    "\n",
    "# predict probabilities\n",
    "lr_probs = y_pred\n",
    "# keep probabilities for the positive outcome only\n",
    "lr_probs = lr_probs[:, 1]\n",
    "# predict class values\n",
    "yhat = y_pred_class\n",
    "\n",
    "lr_precision, lr_recall, _ = precision_recall_curve(y_test_class, lr_probs)\n",
    "lr_f1, lr_auc = f1_score(y_test_class, yhat, average='weighted'), auc(lr_recall, lr_precision)\n",
    "\n",
    "# summarize scores\n",
    "print('Deep Learning: f1=%.3f auc=%.3f' % (lr_f1, lr_auc))\n",
    "# plot the precision-recall curves\n",
    "no_skill = len([x for x in y_test_class if x==1]) / len(y_test_class)\n",
    "\n",
    "pyplot.plot([0, 1], [no_skill, no_skill], linestyle='--', label='baseline')\n",
    "pyplot.plot(lr_recall, lr_precision, marker='.', label='Deep Learning')\n",
    "# axis labels\n",
    "pyplot.xlabel('Recall')\n",
    "pyplot.ylabel('Precision')\n",
    "pyplot.title(\"Precision - Recall curve\")\n",
    "# show the legend\n",
    "pyplot.legend()\n",
    "pyplot.savefig(\"./precision-recall.png\")\n",
    "# show the plot\n",
    "pyplot.show()"
   ]
  },
  {
   "cell_type": "code",
   "execution_count": 23,
   "id": "75ce010f",
   "metadata": {},
   "outputs": [
    {
     "data": {
      "text/plain": [
       "array([1.00000000e+00, 9.99938123e-01, 9.99938123e-01, ...,\n",
       "       1.23754718e-04, 6.18773591e-05, 0.00000000e+00])"
      ]
     },
     "execution_count": 23,
     "metadata": {},
     "output_type": "execute_result"
    }
   ],
   "source": [
    "lr_recall"
   ]
  },
  {
   "cell_type": "code",
   "execution_count": 24,
   "id": "8c78a508",
   "metadata": {},
   "outputs": [
    {
     "data": {
      "text/plain": [
       "array([0.73791151, 0.73789954, 0.73793324, ..., 1.        , 1.        ,\n",
       "       1.        ])"
      ]
     },
     "execution_count": 24,
     "metadata": {},
     "output_type": "execute_result"
    }
   ],
   "source": [
    "lr_precision"
   ]
  },
  {
   "cell_type": "code",
   "execution_count": null,
   "id": "876ceca7",
   "metadata": {},
   "outputs": [],
   "source": []
  }
 ],
 "metadata": {
  "kernelspec": {
   "display_name": "Python 3 (ipykernel)",
   "language": "python",
   "name": "python3"
  },
  "language_info": {
   "codemirror_mode": {
    "name": "ipython",
    "version": 3
   },
   "file_extension": ".py",
   "mimetype": "text/x-python",
   "name": "python",
   "nbconvert_exporter": "python",
   "pygments_lexer": "ipython3",
   "version": "3.9.7"
  }
 },
 "nbformat": 4,
 "nbformat_minor": 5
}
